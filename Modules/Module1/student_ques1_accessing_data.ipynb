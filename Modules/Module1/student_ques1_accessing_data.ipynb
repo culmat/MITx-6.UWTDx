{
 "cells": [
  {
   "cell_type": "markdown",
   "metadata": {
    "id": "H6jG1o8_Kjox"
   },
   "source": [
    "<br>\n",
    "<font size=\"+2\"> In this notebook, we will be working on questions in the Colab Notebooks section in Module 1. </font>\n",
    "<br><br>"
   ]
  },
  {
   "cell_type": "markdown",
   "metadata": {
    "id": "uQRsAkZh3sgc"
   },
   "source": [
    "# Questions on Accessing Data"
   ]
  },
  {
   "cell_type": "markdown",
   "metadata": {
    "id": "J1-11tCt334I"
   },
   "source": [
    "\n",
    "\n",
    "Let's take a break from learning basic pandas commands and have you practice what you've learned so far. To do this, we will work in this new Colab notebook.\n",
    "<br><br>\n",
    "In this notebook, you will read the `city_temperature.csv` datafile; the format of this datafile is the same as the temperature datafile we were using in the video, it just has many more data points because it includes temperature data for the entire world (i.e. rows). "
   ]
  },
  {
   "cell_type": "markdown",
   "metadata": {
    "id": "nsDdywnz4NQT"
   },
   "source": [
    "<font color='#FF4500' size=\"+2\"> To set up your DataFrame for these questions, run the cell below. </font>"
   ]
  },
  {
   "cell_type": "code",
   "execution_count": 7,
   "metadata": {
    "id": "kXSNWktG32oQ"
   },
   "outputs": [],
   "source": [
    "#from google.colab import drive\n",
    "#drive.mount('/content/drive/', force_remount=True)\n",
    "\n",
    "#import os\n",
    "#os.chdir(\"/content/drive/My Drive/AIMOOC\")\n",
    "\n",
    "import pandas as pd\n",
    "df = pd.read_csv(\"~/AIMOOC/Modules/Module1/Data/city_temperature.csv\", engine=\"python\")"
   ]
  },
  {
   "cell_type": "markdown",
   "metadata": {
    "id": "UciqODhH4WFq"
   },
   "source": [
    "## Question 1\n",
    "\n",
    "What's the name of the country at row number 1000000?"
   ]
  },
  {
   "cell_type": "code",
   "execution_count": 11,
   "metadata": {
    "id": "hpvNRPgC4jCw",
    "scrolled": true
   },
   "outputs": [
    {
     "data": {
      "text/plain": [
       "'Yugoslavia'"
      ]
     },
     "execution_count": 11,
     "metadata": {},
     "output_type": "execute_result"
    }
   ],
   "source": [
    "df.loc[1000000][\"Country\"]"
   ]
  },
  {
   "cell_type": "markdown",
   "metadata": {
    "id": "ibDgcUM84kKN"
   },
   "source": [
    "## Question 2\n",
    "\n",
    "What is the name of the city that comes last alphabetically?"
   ]
  },
  {
   "cell_type": "code",
   "execution_count": 29,
   "metadata": {
    "id": "Qc58Zei-4uXo"
   },
   "outputs": [
    {
     "data": {
      "text/plain": [
       "'Zurich'"
      ]
     },
     "execution_count": 29,
     "metadata": {},
     "output_type": "execute_result"
    }
   ],
   "source": [
    "df[\"City\"].sort_values(ascending=False).reset_index().loc[0][\"City\"]"
   ]
  },
  {
   "cell_type": "markdown",
   "metadata": {
    "id": "7amUQA4n5DQw"
   },
   "source": [
    "## Question 3\n",
    "\n",
    "How many data points are there in the US? "
   ]
  },
  {
   "cell_type": "code",
   "execution_count": 35,
   "metadata": {
    "id": "lIp8rzV95KdA"
   },
   "outputs": [
    {
     "data": {
      "text/plain": [
       "1455337"
      ]
     },
     "execution_count": 35,
     "metadata": {},
     "output_type": "execute_result"
    }
   ],
   "source": [
    "df[df[\"Country\"]==\"US\"][\"Country\"].count()"
   ]
  },
  {
   "cell_type": "markdown",
   "metadata": {
    "id": "cutpG1GW5LZc"
   },
   "source": [
    "## Question 4\n",
    "\n",
    "What is the highest temperature in the dataset?"
   ]
  },
  {
   "cell_type": "code",
   "execution_count": 36,
   "metadata": {
    "id": "c5pFJ6x_5Uas"
   },
   "outputs": [
    {
     "data": {
      "text/plain": [
       "110.0"
      ]
     },
     "execution_count": 36,
     "metadata": {},
     "output_type": "execute_result"
    }
   ],
   "source": [
    "df[\"AvgTemperature\"].max()"
   ]
  },
  {
   "cell_type": "markdown",
   "metadata": {
    "id": "Uj-DlFhf5VYk"
   },
   "source": [
    "## Question 5\n",
    "\n",
    "What is the lowest temperature in the US? This dataset uses -99 as the temperature for missing values. Find the minimum temperature ignoring -99."
   ]
  },
  {
   "cell_type": "code",
   "execution_count": 39,
   "metadata": {
    "id": "hiykwDLW5f87"
   },
   "outputs": [
    {
     "data": {
      "text/plain": [
       "-50.0"
      ]
     },
     "execution_count": 39,
     "metadata": {},
     "output_type": "execute_result"
    }
   ],
   "source": [
    "df[(df[\"Country\"]==\"US\")&(df[\"AvgTemperature\"]!=-99)][\"AvgTemperature\"].min()"
   ]
  },
  {
   "cell_type": "markdown",
   "metadata": {
    "id": "jI8NgDEd5hpZ"
   },
   "source": [
    "## Question 6\n",
    "\n",
    "What is the average August temperature in Beijing?"
   ]
  },
  {
   "cell_type": "code",
   "execution_count": 40,
   "metadata": {
    "id": "EsUlUrN95lnW"
   },
   "outputs": [
    {
     "data": {
      "text/plain": [
       "77.9541935483871"
      ]
     },
     "execution_count": 40,
     "metadata": {},
     "output_type": "execute_result"
    }
   ],
   "source": [
    "df[(df[\"City\"]==\"Beijing\")&(df[\"Month\"]==8)][\"AvgTemperature\"].mean()"
   ]
  },
  {
   "cell_type": "markdown",
   "metadata": {
    "id": "VbYJRXBX5miW"
   },
   "source": [
    "## Question 7\n",
    "\n",
    "What is the city with the highest temperature?"
   ]
  },
  {
   "cell_type": "code",
   "execution_count": 45,
   "metadata": {
    "id": "Wer-8l135rBC"
   },
   "outputs": [
    {
     "data": {
      "text/plain": [
       "'Kuwait'"
      ]
     },
     "execution_count": 45,
     "metadata": {},
     "output_type": "execute_result"
    }
   ],
   "source": [
    "df.sort_values(by=['AvgTemperature'], ascending = False ).reset_index().loc[0][\"City\"]"
   ]
  },
  {
   "cell_type": "markdown",
   "metadata": {
    "id": "Z9Azw10n5r6F"
   },
   "source": [
    "## Question 8\n",
    "\n",
    "In which year was the temperature in May the highest?"
   ]
  },
  {
   "cell_type": "code",
   "execution_count": 49,
   "metadata": {
    "id": "GpL1iDS15xly"
   },
   "outputs": [
    {
     "data": {
      "text/plain": [
       "1999"
      ]
     },
     "execution_count": 49,
     "metadata": {},
     "output_type": "execute_result"
    }
   ],
   "source": [
    "df[df[\"Month\"]==5].sort_values(by=['AvgTemperature'], ascending = False ).reset_index().loc[0][\"Year\"]"
   ]
  },
  {
   "cell_type": "code",
   "execution_count": 60,
   "metadata": {},
   "outputs": [
    {
     "data": {
      "text/plain": [
       "2012.0"
      ]
     },
     "execution_count": 60,
     "metadata": {},
     "output_type": "execute_result"
    }
   ],
   "source": [
    "df.groupby(\"Year\")['AvgTemperature'].sum().sort_values(ascending = False ).reset_index().loc[0][\"Year\"]"
   ]
  },
  {
   "cell_type": "markdown",
   "metadata": {
    "id": "kiasDB745ynI"
   },
   "source": [
    "In which city was the temperature in May the highest?"
   ]
  },
  {
   "cell_type": "code",
   "execution_count": 62,
   "metadata": {
    "id": "J3KS3De151LF"
   },
   "outputs": [
    {
     "data": {
      "text/plain": [
       "'Kuwait'"
      ]
     },
     "execution_count": 62,
     "metadata": {},
     "output_type": "execute_result"
    }
   ],
   "source": [
    "df[df[\"Month\"]==5].sort_values(by=['AvgTemperature'], ascending = False ).reset_index().loc[0][\"City\"]"
   ]
  },
  {
   "cell_type": "code",
   "execution_count": 65,
   "metadata": {},
   "outputs": [
    {
     "data": {
      "text/plain": [
       "'Charleston'"
      ]
     },
     "execution_count": 65,
     "metadata": {},
     "output_type": "execute_result"
    }
   ],
   "source": [
    "df[df[\"Month\"]==5].groupby(\"City\")['AvgTemperature'].sum().sort_values(ascending = False ).reset_index().loc[0][\"City\"]"
   ]
  }
 ],
 "metadata": {
  "colab": {
   "collapsed_sections": [],
   "name": "student_ques1_accessing_data.ipynb",
   "provenance": []
  },
  "kernelspec": {
   "display_name": "Python 3 (ipykernel)",
   "language": "python",
   "name": "python3"
  },
  "language_info": {
   "codemirror_mode": {
    "name": "ipython",
    "version": 3
   },
   "file_extension": ".py",
   "mimetype": "text/x-python",
   "name": "python",
   "nbconvert_exporter": "python",
   "pygments_lexer": "ipython3",
   "version": "3.10.12"
  }
 },
 "nbformat": 4,
 "nbformat_minor": 4
}
